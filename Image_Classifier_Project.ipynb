{
  "nbformat": 4,
  "nbformat_minor": 0,
  "metadata": {
    "colab": {
      "name": "Image Classifier Project.ipynb",
      "version": "0.3.2",
      "provenance": [],
      "collapsed_sections": []
    },
    "kernelspec": {
      "name": "python3",
      "display_name": "Python 3"
    },
    "accelerator": "GPU"
  },
  "cells": [
    {
      "cell_type": "markdown",
      "metadata": {
        "id": "4yO9uYbcRi80",
        "colab_type": "text"
      },
      "source": [
        "# Developing an AI application\n",
        "\n",
        "Going forward, AI algorithms will be incorporated into more and more everyday applications. For example, you might want to include an image classifier in a smart phone app. To do this, you'd use a deep learning model trained on hundreds of thousands of images as part of the overall application architecture. A large part of software development in the future will be using these types of models as common parts of applications. \n",
        "\n",
        "In this project, you'll train an image classifier to recognize different species of flowers. You can imagine using something like this in a phone app that tells you the name of the flower your camera is looking at. In practice you'd train this classifier, then export it for use in your application. We'll be using [this dataset](http://www.robots.ox.ac.uk/~vgg/data/flowers/102/index.html) of 102 flower categories, you can see a few examples below. \n",
        "\n",
        "<img src='https://github.com/udacity/pytorch_challenge/blob/master/assets/Flowers.png?raw=1' width=500px>\n",
        "\n",
        "The project is broken down into multiple steps:\n",
        "\n",
        "* Load and preprocess the image dataset\n",
        "* Train the image classifier on your dataset\n",
        "* Use the trained classifier to predict image content\n",
        "\n",
        "We'll lead you through each part which you'll implement in Python.\n",
        "\n",
        "When you've completed this project, you'll have an application that can be trained on any set of labeled images. Here your network will be learning about flowers and end up as a command line application. But, what you do with your new skills depends on your imagination and effort in building a dataset. For example, imagine an app where you take a picture of a car, it tells you what the make and model is, then looks up information about it. Go build your own dataset and make something new.\n",
        "\n",
        "First up is importing the packages you'll need. It's good practice to keep all the imports at the beginning of your code. As you work through this notebook and find you need to import a package, make sure to add the import up here."
      ]
    },
    {
      "cell_type": "code",
      "metadata": {
        "id": "KCJrkd93Sy2N",
        "colab_type": "code",
        "outputId": "5a1fc41f-c8ef-4a42-aff6-fc7d68680851",
        "colab": {
          "base_uri": "https://localhost:8080/",
          "height": 54
        }
      },
      "source": [
        "%matplotlib inline\n",
        "%config InlineBackend.figure_format = 'retina'\n",
        "\n",
        "# If on Google Colab:\n",
        "# * Mount google drive\n",
        "# * Install required modules\n",
        "try:\n",
        "    from google.colab import drive\n",
        "    is_colab_kernel = True\n",
        "except ModuleNotFoundError:\n",
        "    is_colab_kernel = False\n",
        "\n",
        "if is_colab_kernel:    \n",
        "    google_drive_mount = '/content/drive/'\n",
        "    drive.mount(google_drive_mount)  # https://colab.research.google.com/notebooks/io.ipynb#scrollTo=u22w3BFiOveA\n",
        "    proj_dir = google_drive_mount + 'My Drive/colab/pytorch-challenge'"
      ],
      "execution_count": 0,
      "outputs": [
        {
          "output_type": "stream",
          "text": [
            "Drive already mounted at /content/drive/; to attempt to forcibly remount, call drive.mount(\"/content/drive/\", force_remount=True).\n"
          ],
          "name": "stdout"
        }
      ]
    },
    {
      "cell_type": "code",
      "metadata": {
        "id": "8CTF7xdsUueo",
        "colab_type": "code",
        "outputId": "22132045-b9e2-4f78-dcbb-b48b09e033c0",
        "colab": {
          "base_uri": "https://localhost:8080/",
          "height": 51
        }
      },
      "source": [
        "# Change to project directory, set environment variable $PROJ_DIR\n",
        "\n",
        "if is_colab_kernel:\n",
        "    proj_dir = google_drive_mount + 'My Drive/colab/pytorch-challenge'\n",
        "    %mkdir -p \"$proj_dir\"\n",
        "    %cd -q \"$proj_dir\"\n",
        "else:  # Running on local machine, assume we are already in project directory\n",
        "    proj_dir = %pwd  \n",
        "\n",
        "%env PROJ_DIR = $proj_dir\n",
        "print('Current working directory:', proj_dir)"
      ],
      "execution_count": 0,
      "outputs": [
        {
          "output_type": "stream",
          "text": [
            "env: PROJ_DIR=/content/drive/My Drive/colab/pytorch-challenge\n",
            "Current working directory: /content/drive/My Drive/colab/pytorch-challenge\n"
          ],
          "name": "stdout"
        }
      ]
    },
    {
      "cell_type": "code",
      "metadata": {
        "id": "UaXZlNJ-XCh8",
        "colab_type": "code",
        "outputId": "19902fd7-c7f4-4678-c3d4-b49c4c5fcd5c",
        "colab": {
          "base_uri": "https://localhost:8080/",
          "height": 156
        }
      },
      "source": [
        "!pip3 install http://download.pytorch.org/whl/cu80/torch-0.3.0.post4-cp36-cp36m-linux_x86_64.whl "
      ],
      "execution_count": 0,
      "outputs": [
        {
          "output_type": "stream",
          "text": [
            "Collecting torch==0.3.0.post4 from http://download.pytorch.org/whl/cu80/torch-0.3.0.post4-cp36-cp36m-linux_x86_64.whl\n",
            "\u001b[?25l  Downloading http://download.pytorch.org/whl/cu80/torch-0.3.0.post4-cp36-cp36m-linux_x86_64.whl (592.3MB)\n",
            "\u001b[K    100% |████████████████████████████████| 592.3MB 47.3MB/s \n",
            "\u001b[?25hRequirement already satisfied: pyyaml in /usr/local/lib/python3.6/dist-packages (from torch==0.3.0.post4) (3.13)\n",
            "Requirement already satisfied: numpy in /usr/local/lib/python3.6/dist-packages (from torch==0.3.0.post4) (1.14.6)\n",
            "Installing collected packages: torch\n",
            "Successfully installed torch-0.3.0.post4\n"
          ],
          "name": "stdout"
        }
      ]
    },
    {
      "cell_type": "code",
      "metadata": {
        "id": "rbhr8UWhX3d7",
        "colab_type": "code",
        "outputId": "153daaa8-6110-4f6b-c4b7-97b7aa31d06d",
        "colab": {
          "base_uri": "https://localhost:8080/",
          "height": 292
        }
      },
      "source": [
        "!pip3 install torchvision"
      ],
      "execution_count": 0,
      "outputs": [
        {
          "output_type": "stream",
          "text": [
            "Collecting torchvision\n",
            "\u001b[?25l  Downloading https://files.pythonhosted.org/packages/ca/0d/f00b2885711e08bd71242ebe7b96561e6f6d01fdb4b9dcf4d37e2e13c5e1/torchvision-0.2.1-py2.py3-none-any.whl (54kB)\n",
            "\u001b[K    100% |████████████████████████████████| 61kB 2.9MB/s \n",
            "\u001b[?25hCollecting pillow>=4.1.1 (from torchvision)\n",
            "\u001b[?25l  Downloading https://files.pythonhosted.org/packages/92/e3/217dfd0834a51418c602c96b110059c477260c7fee898542b100913947cf/Pillow-5.4.0-cp36-cp36m-manylinux1_x86_64.whl (2.0MB)\n",
            "\u001b[K    100% |████████████████████████████████| 2.0MB 12.7MB/s \n",
            "\u001b[?25hRequirement already satisfied: six in /usr/local/lib/python3.6/dist-packages (from torchvision) (1.11.0)\n",
            "Requirement already satisfied: numpy in /usr/local/lib/python3.6/dist-packages (from torchvision) (1.14.6)\n",
            "Requirement already satisfied: torch in /usr/local/lib/python3.6/dist-packages (from torchvision) (0.3.0.post4)\n",
            "Requirement already satisfied: pyyaml in /usr/local/lib/python3.6/dist-packages (from torch->torchvision) (3.13)\n",
            "Installing collected packages: pillow, torchvision\n",
            "  Found existing installation: Pillow 4.0.0\n",
            "    Uninstalling Pillow-4.0.0:\n",
            "      Successfully uninstalled Pillow-4.0.0\n",
            "Successfully installed pillow-5.4.0 torchvision-0.2.1\n"
          ],
          "name": "stdout"
        }
      ]
    },
    {
      "cell_type": "code",
      "metadata": {
        "id": "FBq7Z2pJX_S-",
        "colab_type": "code",
        "outputId": "cccd59dd-7e2f-4f53-ad1d-8b9d48d22eff",
        "colab": {
          "base_uri": "https://localhost:8080/",
          "height": 68
        }
      },
      "source": [
        "%%bash\n",
        "# [[ ! -e /colabtools ]] && exit  # Continue only if running on Google Colab\n",
        "\n",
        "set -eu  # Exit on command failure or unset variable\n",
        "\n",
        "# Download the category name mapping file if needed\n",
        "wget -qN 'https://raw.githubusercontent.com/udacity/pytorch_challenge/master/cat_to_name.json'\n",
        "\n",
        "# Download / extract the datasets if needed\n",
        "data_file=\"$PROJ_DIR/flower_data.zip\"\n",
        "category_labels=\n",
        "data_dir=$(readlink -f 'flower_data')  # Convert to absolute path\n",
        "\n",
        "if [[ -d \"$data_dir\" ]]; then\n",
        "  echo \"Dataset already unzipped.\"\n",
        "  ls -ld \"$data_dir\"/*\n",
        "  exit\n",
        "fi\n",
        "\n",
        "if [[ -s \"$data_file\" ]]; then\n",
        "  echo \"Downloaded dataset already exists.\"\n",
        "else\n",
        "  echo \"Please wait while dataset downloads...\"\n",
        "  wget --continue 'https://s3.amazonaws.com/content.udacity-data.com/courses/nd188/flower_data.zip'\n",
        "fi\n",
        "\n",
        "echo \"Unzipping $data_file...\"\n",
        "unzip -uq \"$data_file\" | tail -n3\n",
        "rm \"$data_file\"  # Remove file to save disk space\n",
        "\n",
        "ls -ld \"$data_dir\"/*"
      ],
      "execution_count": 0,
      "outputs": [
        {
          "output_type": "stream",
          "text": [
            "Dataset already unzipped.\n",
            "drwx------ 104 root root 4096 Jan 15  2018 /content/drive/My Drive/colab/pytorch-challenge/flower_data/train\n",
            "drwx------ 104 root root 4096 Dec 20 08:57 /content/drive/My Drive/colab/pytorch-challenge/flower_data/valid\n"
          ],
          "name": "stdout"
        }
      ]
    },
    {
      "cell_type": "code",
      "metadata": {
        "id": "tMDYMDJfYhd1",
        "colab_type": "code",
        "outputId": "77ce1a29-5ed8-4f40-a695-16abeb221303",
        "colab": {
          "base_uri": "https://localhost:8080/",
          "height": 34
        }
      },
      "source": [
        "# Check if CUDA is available\n",
        "import torch\n",
        "if not torch.cuda.is_available():\n",
        "    print('CUDA is not available.  Training on CPU ...')\n",
        "    if is_colab_kernel:\n",
        "        print('You should enable GPUs for speed-up.')\n",
        "else:\n",
        "    print('CUDA is available!  Training on GPU ...')\n",
        "\n",
        "# Set device for .to(device)\n",
        "device = torch.cuda.device('cuda' if torch.cuda.is_available() else 'cpu')"
      ],
      "execution_count": 0,
      "outputs": [
        {
          "output_type": "stream",
          "text": [
            "CUDA is available!  Training on GPU ...\n"
          ],
          "name": "stdout"
        }
      ]
    },
    {
      "cell_type": "code",
      "metadata": {
        "id": "mWAQFGePRi9U",
        "colab_type": "code",
        "colab": {}
      },
      "source": [
        "import numpy as np\n",
        "import pandas\n",
        "import torch\n",
        "import matplotlib.pyplot as plt\n",
        "import torch.nn.functional as F\n",
        "import time\n",
        "import json\n",
        "\n",
        "from torch import nn\n",
        "from torch import optim\n",
        "from torch.autograd import Variable\n",
        "from torchvision import datasets, transforms, models\n",
        "from collections import OrderedDict\n",
        "from PIL import Image"
      ],
      "execution_count": 0,
      "outputs": []
    },
    {
      "cell_type": "markdown",
      "metadata": {
        "id": "nAqRAqoURi-I",
        "colab_type": "text"
      },
      "source": [
        "## Load the data\n",
        "\n",
        "Here you'll use `torchvision` to load the data ([documentation](http://pytorch.org/docs/0.3.0/torchvision/index.html)). You can [download the data here](https://s3.amazonaws.com/content.udacity-data.com/courses/nd188/flower_data.zip). The dataset is split into two parts, training and validation. For the training, you'll want to apply transformations such as random scaling, cropping, and flipping. This will help the network generalize leading to better performance. If you use a pre-trained network, you'll also need to make sure the input data is resized to 224x224 pixels as required by the networks.\n",
        "\n",
        "The validation set is used to measure the model's performance on data it hasn't seen yet. For this you don't want any scaling or rotation transformations, but you'll need to resize then crop the images to the appropriate size.\n",
        "\n",
        "The pre-trained networks available from `torchvision` were trained on the ImageNet dataset where each color channel was normalized separately. For both sets you'll need to normalize the means and standard deviations of the images to what the network expects. For the means, it's `[0.485, 0.456, 0.406]` and for the standard deviations `[0.229, 0.224, 0.225]`, calculated from the ImageNet images.  These values will shift each color channel to be centered at 0 and range from -1 to 1."
      ]
    },
    {
      "cell_type": "code",
      "metadata": {
        "id": "vWiq2TtSRi-X",
        "colab_type": "code",
        "colab": {}
      },
      "source": [
        "data_dir = 'flower_data'\n",
        "train_dir = data_dir + '/train'\n",
        "valid_dir = data_dir + '/valid'\n",
        "\n",
        "batch_size=64"
      ],
      "execution_count": 0,
      "outputs": []
    },
    {
      "cell_type": "code",
      "metadata": {
        "id": "DzKy8nwIRi_M",
        "colab_type": "code",
        "colab": {}
      },
      "source": [
        "\n",
        "\n",
        "# TODO: Define your transforms for the training and validation sets\n",
        "data_transforms = transforms.Compose([transforms.Resize(256), \n",
        "                                      transforms.CenterCrop(224),\n",
        "                                      transforms.ToTensor(),\n",
        "                                      transforms.Normalize([0.485, 0.456, 0.406], \n",
        "                                                           [0.229, 0.224, 0.225])])\n",
        "\n",
        "train_transforms = transforms.Compose([transforms.RandomRotation(30),\n",
        "                                       transforms.RandomResizedCrop(224),\n",
        "                                       transforms.RandomHorizontalFlip(),\n",
        "                                       transforms.ToTensor(),\n",
        "                                       transforms.Normalize([0.485, 0.456, 0.406],\n",
        "                                                           [0.229, 0.224, 0.225])])\n",
        "\n",
        "# TODO: Load the datasets with ImageFolder\n",
        "image_datasets = [datasets.ImageFolder(train_dir, transform=train_transforms),                      \n",
        "                  datasets.ImageFolder(valid_dir, transform=data_transforms)                       \n",
        "                  ]                        \n",
        "\n",
        "# TODO: Using the image datasets and the trainforms, define the dataloaders\n",
        "dataloaders = [torch.utils.data.DataLoader(image_datasets[0], batch_size=batch_size, shuffle=True), \n",
        "               torch.utils.data.DataLoader(image_datasets[1], batch_size=batch_size)               \n",
        "               ]               "
      ],
      "execution_count": 0,
      "outputs": []
    },
    {
      "cell_type": "code",
      "metadata": {
        "id": "jYk1ZlGF2bhg",
        "colab_type": "code",
        "outputId": "f770df8c-ee53-4c0a-837d-e2fa2f053b2a",
        "colab": {
          "base_uri": "https://localhost:8080/",
          "height": 302
        }
      },
      "source": [
        "images, labels = next(iter(dataloaders[0]))\n",
        "print(len(images[0,2]))\n",
        "plt.imshow(images[0,0])"
      ],
      "execution_count": 0,
      "outputs": [
        {
          "output_type": "stream",
          "text": [
            "224\n"
          ],
          "name": "stdout"
        },
        {
          "output_type": "execute_result",
          "data": {
            "text/plain": [
              "<matplotlib.image.AxesImage at 0x7f6214d90908>"
            ]
          },
          "metadata": {
            "tags": []
          },
          "execution_count": 9
        },
        {
          "output_type": "display_data",
          "data": {
            "image/png": "[encoded data removed]",
            "text/plain": [
              "<matplotlib.figure.Figure at 0x7f6252281128>"
            ]
          },
          "metadata": {
            "tags": [],
            "image/png": {
              "width": 255,
              "height": 251
            }
          }
        }
      ]
    },
    {
      "cell_type": "markdown",
      "metadata": {
        "id": "nDCUPfe3Ri_w",
        "colab_type": "text"
      },
      "source": [
        "### Label mapping\n",
        "\n",
        "You'll also need to load in a mapping from category label to category name. You can find this in the file `cat_to_name.json`. It's a JSON object which you can read in with the [`json` module](https://docs.python.org/2/library/json.html). This will give you a dictionary mapping the integer encoded categories to the actual names of the flowers."
      ]
    },
    {
      "cell_type": "code",
      "metadata": {
        "id": "vzLWRjb5Ri_8",
        "colab_type": "code",
        "colab": {}
      },
      "source": [
        "with open('cat_to_name.json', 'r') as f:\n",
        "    cat_to_name = json.load(f)"
      ],
      "execution_count": 0,
      "outputs": []
    },
    {
      "cell_type": "code",
      "metadata": {
        "id": "v1SIiL5zrslS",
        "colab_type": "code",
        "outputId": "37e045cd-2368-40f6-f193-b79af498995e",
        "colab": {
          "base_uri": "https://localhost:8080/",
          "height": 119
        }
      },
      "source": [
        "!pip uninstall  pillow"
      ],
      "execution_count": 0,
      "outputs": [
        {
          "output_type": "stream",
          "text": [
            "Uninstalling Pillow-5.3.0:\n",
            "  Would remove:\n",
            "    /usr/local/lib/python3.6/dist-packages/PIL/*\n",
            "    /usr/local/lib/python3.6/dist-packages/Pillow-5.3.0.dist-info/*\n",
            "Proceed (y/n)? y\n",
            "  Successfully uninstalled Pillow-5.3.0\n"
          ],
          "name": "stdout"
        }
      ]
    },
    {
      "cell_type": "code",
      "metadata": {
        "id": "BZNyj0ETr4bq",
        "colab_type": "code",
        "outputId": "54763609-3665-41dc-d803-36db9023adf1",
        "colab": {
          "base_uri": "https://localhost:8080/",
          "height": 105
        }
      },
      "source": [
        "!pip install -U pillow==5.3.0"
      ],
      "execution_count": 0,
      "outputs": [
        {
          "output_type": "stream",
          "text": [
            "Collecting pillow==5.3.0\n",
            "  Using cached https://files.pythonhosted.org/packages/62/94/5430ebaa83f91cc7a9f687ff5238e26164a779cca2ef9903232268b0a318/Pillow-5.3.0-cp36-cp36m-manylinux1_x86_64.whl\n",
            "Installing collected packages: pillow\n",
            "Successfully installed pillow-5.3.0\n"
          ],
          "name": "stdout"
        }
      ]
    },
    {
      "cell_type": "code",
      "metadata": {
        "id": "UmfVDOQ1sYaV",
        "colab_type": "code",
        "outputId": "dba99610-7a3b-4afe-be27-c1907c2dd863",
        "colab": {
          "base_uri": "https://localhost:8080/",
          "height": 34
        }
      },
      "source": [
        "import PIL\n",
        "print(PIL.PILLOW_VERSION)"
      ],
      "execution_count": 0,
      "outputs": [
        {
          "output_type": "stream",
          "text": [
            "5.3.0\n"
          ],
          "name": "stdout"
        }
      ]
    },
    {
      "cell_type": "markdown",
      "metadata": {
        "id": "3ziwN118RjAa",
        "colab_type": "text"
      },
      "source": [
        "# Building and training the classifier\n",
        "\n",
        "Now that the data is ready, it's time to build and train the classifier. As usual, you should use one of the pretrained models from `torchvision.models` to get the image features. Build and train a new feed-forward classifier using those features.\n",
        "\n",
        "We're going to leave this part up to you. If you want to talk through it with someone, chat with your fellow students! You can also ask questions on the forums or join the instructors in office hours.\n",
        "\n",
        "Refer to [the rubric](https://review.udacity.com/#!/rubrics/1663/view) for guidance on successfully completing this section. Things you'll need to do:\n",
        "\n",
        "* Load a [pre-trained network](http://pytorch.org/docs/master/torchvision/models.html) (If you need a starting point, the VGG networks work great and are straightforward to use)\n",
        "* Define a new, untrained feed-forward network as a classifier, using ReLU activations and dropout\n",
        "* Train the classifier layers using backpropagation using the pre-trained network to get the features\n",
        "* Track the loss and accuracy on the validation set to determine the best hyperparameters\n",
        "\n",
        "We've left a cell open for you below, but use as many as you need. Our advice is to break the problem up into smaller parts you can run separately. Check that each part is doing what you expect, then move on to the next. You'll likely find that as you work through each part, you'll need to go back and modify your previous code. This is totally normal!\n",
        "\n",
        "When training make sure you're updating only the weights of the feed-forward network. You should be able to get the validation accuracy above 70% if you build everything right. Make sure to try different hyperparameters (learning rate, units in the classifier, epochs, etc) to find the best model. Save those hyperparameters to use as default values in the next part of the project."
      ]
    },
    {
      "cell_type": "code",
      "metadata": {
        "id": "HM-Buo59RjAj",
        "colab_type": "code",
        "colab": {}
      },
      "source": [
        "# TODO: Build and train your network\n",
        "model = models.densenet121(pretrained=True)\n",
        "\n",
        "for param in model.parameters():\n",
        "    param.requires_grad = False\n",
        "    \n",
        "classifier = nn.Sequential(OrderedDict([('input',  nn.Linear(1024, 550)),\n",
        "                                        ('relu1',  nn.ReLU()),\n",
        "                                        ('dropout1',  nn.Dropout(0.5)),\n",
        "                                        ('linear2',  nn.Linear(550, 200)),\n",
        "                                        ('relu2',  nn.ReLU()),\n",
        "                                        ('linear3', nn.Linear(200, 102)),\n",
        "                                        ('output', nn.LogSoftmax(dim=1))\n",
        "                                       ]))\n",
        "model.classifier = classifier\n"
      ],
      "execution_count": 0,
      "outputs": []
    },
    {
      "cell_type": "code",
      "metadata": {
        "id": "8hidAJEzvV3T",
        "colab_type": "code",
        "colab": {}
      },
      "source": [
        "def train_model(criterion, optimizer, epochs=10, cuda=False):\n",
        "    start_time = time.time()\n",
        "    steps = 0\n",
        "    \n",
        "    print_every = 25\n",
        "    \n",
        "    if cuda:\n",
        "        model.cuda()\n",
        "    else:\n",
        "        model.cpu()\n",
        "\n",
        "    for e in range(epochs):\n",
        "        running_loss = 0\n",
        "        for ii, (inputs, labels) in enumerate(dataloaders[0]):\n",
        "            inputs, labels = Variable(inputs), Variable(labels)\n",
        "            steps += 1\n",
        "            \n",
        "            if cuda:\n",
        "                inputs, labels = inputs.cuda(), labels.cuda()\n",
        "            \n",
        "            optimizer.zero_grad()\n",
        "            outputs = model.forward(inputs)\n",
        "            loss = criterion(outputs, labels)\n",
        "            loss.backward()\n",
        "            optimizer.step()\n",
        "            \n",
        "            running_loss += loss.data[0]\n",
        "            \n",
        "            if steps % print_every == 0:\n",
        "                model.eval()\n",
        "            \n",
        "                accuracy = 0\n",
        "                validation_loss = 0\n",
        "            \n",
        "                for ii, (images, labels) in enumerate(dataloaders[1]):\n",
        "            \n",
        "                    inputs = Variable(images, volatile=True)\n",
        "                    labels = Variable(labels, volatile=True)\n",
        "                \n",
        "                    if cuda:\n",
        "                        inputs, labels = inputs.cuda(), labels.cuda()\n",
        "        \n",
        "                    output = model.forward(inputs)\n",
        "                    validation_loss += criterion(output, labels).data[0]\n",
        "                    ps = torch.exp(output).data\n",
        "                    equality = (labels.data == ps.max(1)[1])\n",
        "                    accuracy += equality.type_as(torch.FloatTensor()).mean()\n",
        "\n",
        "                print(\"Epoch: {} / {}.. \".format(e+1, epochs),\n",
        "                      \"Training Loss: {:.3f}.. \".format(running_loss/print_every),\n",
        "                      \"Validation Loss: {:.3f}.. \".format(validation_loss/len(dataloaders[1])),\n",
        "                      \"Validation Accuracy: {:.3f}\".format(accuracy/len(dataloaders[1])))\n",
        "\n",
        "                running_loss = 0\n",
        "                model.train()\n",
        "                \n",
        "    elapsed_time = time.time() - start_time\n",
        "    print('Elapsed Time: {:.0f}m {:.0f}s'.format(elapsed_time//60, elapsed_time % 60))\n",
        "        "
      ],
      "execution_count": 0,
      "outputs": []
    },
    {
      "cell_type": "code",
      "metadata": {
        "id": "ulMUxUXbFDpk",
        "colab_type": "code",
        "outputId": "8cc2c482-7c0b-4e28-b24b-6c66fac9a35d",
        "colab": {
          "base_uri": "https://localhost:8080/",
          "height": 374
        }
      },
      "source": [
        "learning_rate = 0.001\n",
        "epochs = 5\n",
        "\n",
        "criterion = nn.NLLLoss()\n",
        "optimizer = optim.Adam(model.classifier.parameters(), lr=learning_rate)\n",
        "\n",
        "cuda = torch.cuda.is_available\n",
        "\n",
        "train_model(criterion=criterion, optimizer=optimizer, epochs=epochs, cuda=cuda)"
      ],
      "execution_count": 0,
      "outputs": [
        {
          "output_type": "stream",
          "text": [
            "Epoch: 1 / 5..  Training Loss: 4.496..  Validation Loss: 4.302..  Validation Accuracy: 0.061\n",
            "Epoch: 1 / 5..  Training Loss: 4.170..  Validation Loss: 3.681..  Validation Accuracy: 0.208\n",
            "Epoch: 1 / 5..  Training Loss: 3.570..  Validation Loss: 2.981..  Validation Accuracy: 0.305\n",
            "Epoch: 1 / 5..  Training Loss: 2.987..  Validation Loss: 2.155..  Validation Accuracy: 0.492\n",
            "Epoch: 2 / 5..  Training Loss: 2.138..  Validation Loss: 1.723..  Validation Accuracy: 0.577\n",
            "Epoch: 2 / 5..  Training Loss: 2.019..  Validation Loss: 1.375..  Validation Accuracy: 0.651\n",
            "Epoch: 2 / 5..  Training Loss: 1.884..  Validation Loss: 1.219..  Validation Accuracy: 0.697\n",
            "Epoch: 2 / 5..  Training Loss: 1.712..  Validation Loss: 1.087..  Validation Accuracy: 0.718\n",
            "Epoch: 3 / 5..  Training Loss: 1.109..  Validation Loss: 0.917..  Validation Accuracy: 0.749\n",
            "Epoch: 3 / 5..  Training Loss: 1.415..  Validation Loss: 0.853..  Validation Accuracy: 0.773\n",
            "Epoch: 3 / 5..  Training Loss: 1.355..  Validation Loss: 0.917..  Validation Accuracy: 0.746\n",
            "Epoch: 3 / 5..  Training Loss: 1.367..  Validation Loss: 0.729..  Validation Accuracy: 0.815\n",
            "Epoch: 4 / 5..  Training Loss: 0.821..  Validation Loss: 0.647..  Validation Accuracy: 0.834\n",
            "Epoch: 4 / 5..  Training Loss: 1.144..  Validation Loss: 0.709..  Validation Accuracy: 0.795\n",
            "Epoch: 4 / 5..  Training Loss: 1.186..  Validation Loss: 0.622..  Validation Accuracy: 0.833\n",
            "Epoch: 4 / 5..  Training Loss: 1.156..  Validation Loss: 0.642..  Validation Accuracy: 0.837\n",
            "Epoch: 5 / 5..  Training Loss: 0.517..  Validation Loss: 0.588..  Validation Accuracy: 0.837\n",
            "Epoch: 5 / 5..  Training Loss: 1.042..  Validation Loss: 0.562..  Validation Accuracy: 0.854\n",
            "Epoch: 5 / 5..  Training Loss: 1.019..  Validation Loss: 0.507..  Validation Accuracy: 0.861\n",
            "Epoch: 5 / 5..  Training Loss: 1.057..  Validation Loss: 0.531..  Validation Accuracy: 0.854\n",
            "Elapsed Time: 21m 43s\n"
          ],
          "name": "stdout"
        }
      ]
    },
    {
      "cell_type": "markdown",
      "metadata": {
        "id": "DcGOWKenRjA8",
        "colab_type": "text"
      },
      "source": [
        "## Save the checkpoint\n",
        "\n",
        "Now that your network is trained, save the model so you can load it later for making predictions. You probably want to save other things such as the mapping of classes to indices which you get from one of the image datasets: `image_datasets['train'].class_to_idx`. You can attach this to the model as an attribute which makes inference easier later on.\n",
        "\n",
        "```model.class_to_idx = image_datasets['train'].class_to_idx```\n",
        "\n",
        "Remember that you'll want to completely rebuild the model later so you can use it for inference. Make sure to include any information you need in the checkpoint. If you want to load the model and keep training, you'll want to save the number of epochs as well as the optimizer state, `optimizer.state_dict`. You'll likely want to use this trained model in the next part of the project, so best to save it now."
      ]
    },
    {
      "cell_type": "code",
      "metadata": {
        "id": "pVqMWll9RjBE",
        "colab_type": "code",
        "colab": {}
      },
      "source": [
        "# TODO: Save the checkpoint \n",
        "\n",
        "checkpoint = {'input_size': 1024,\n",
        "              'output_size': 102,\n",
        "              'epochs': epochs,\n",
        "              'learning_rate':learning_rate,\n",
        "              'batch_size': 64,\n",
        "              'data_transforms': data_transforms,\n",
        "              'model': models.densenet121(pretrained=True),\n",
        "              'classifier': classifier,\n",
        "              'optimizer': optimizer.state_dict(),\n",
        "              'state_dict': model.state_dict(),\n",
        "              'class_to_idx': image_datasets[0].class_to_idx\n",
        "             }\n",
        "\n",
        "torch.save(checkpoint, 'checkpoint.pth')"
      ],
      "execution_count": 0,
      "outputs": []
    },
    {
      "cell_type": "markdown",
      "metadata": {
        "id": "WSzP-j7SRjBe",
        "colab_type": "text"
      },
      "source": [
        "## Loading the checkpoint\n",
        "\n",
        "At this point it's good to write a function that can load a checkpoint and rebuild the model. That way you can come back to this project and keep working on it without having to retrain the network."
      ]
    },
    {
      "cell_type": "code",
      "metadata": {
        "id": "lEk0hWGNRjBm",
        "colab_type": "code",
        "outputId": "16650beb-e066-44b1-ad2d-d43758172e3d",
        "colab": {
          "base_uri": "https://localhost:8080/",
          "height": 469
        }
      },
      "source": [
        "# TODO: Write a function that loads a checkpoint and rebuilds the mode\n",
        "def load_checkpoint(file='checkpoint.pth'):\n",
        "    # Loading weights for CPU model while trained on GP\n",
        "    # https://discuss.pytorch.org/t/loading-weights-for-cpu-model-while-trained-on-gpu/1032\n",
        "    model_state = torch.load(file, map_location=lambda storage, loc: storage)\n",
        "    \n",
        "    \n",
        "    model = models.vgg16(pretrained=True)\n",
        "    model.classifier = model_state['classifier']\n",
        "    model.load_state_dict(model_state['state_dict'])\n",
        "    model.class_to_idx = model_state['class_to_idx']\n",
        "\n",
        "    return model\n",
        "\n",
        "\n",
        "chkp_model = load_checkpoint()"
      ],
      "execution_count": 0,
      "outputs": [
        {
          "output_type": "stream",
          "text": [
            "Downloading: \"https://download.pytorch.org/models/vgg16-397923af.pth\" to /root/.torch/models/vgg16-397923af.pth\n",
            "100%|██████████| 553433881/553433881 [00:06<00:00, 87423682.31it/s]\n"
          ],
          "name": "stderr"
        },
        {
          "output_type": "error",
          "ename": "KeyError",
          "evalue": "ignored",
          "traceback": [
            "\u001b[0;31m---------------------------------------------------------------------------\u001b[0m",
            "\u001b[0;31mKeyError\u001b[0m                                  Traceback (most recent call last)",
            "\u001b[0;32m<ipython-input-25-51df6049882d>\u001b[0m in \u001b[0;36m<module>\u001b[0;34m()\u001b[0m\n\u001b[1;32m     13\u001b[0m \u001b[0;34m\u001b[0m\u001b[0m\n\u001b[1;32m     14\u001b[0m \u001b[0;34m\u001b[0m\u001b[0m\n\u001b[0;32m---> 15\u001b[0;31m \u001b[0mchkp_model\u001b[0m \u001b[0;34m=\u001b[0m \u001b[0mload_checkpoint\u001b[0m\u001b[0;34m(\u001b[0m\u001b[0;34m)\u001b[0m\u001b[0;34m\u001b[0m\u001b[0;34m\u001b[0m\u001b[0m\n\u001b[0m",
            "\u001b[0;32m<ipython-input-25-51df6049882d>\u001b[0m in \u001b[0;36mload_checkpoint\u001b[0;34m(file)\u001b[0m\n\u001b[1;32m      7\u001b[0m     \u001b[0mmodel\u001b[0m \u001b[0;34m=\u001b[0m \u001b[0mmodels\u001b[0m\u001b[0;34m.\u001b[0m\u001b[0mvgg16\u001b[0m\u001b[0;34m(\u001b[0m\u001b[0mpretrained\u001b[0m\u001b[0;34m=\u001b[0m\u001b[0;32mTrue\u001b[0m\u001b[0;34m)\u001b[0m\u001b[0;34m\u001b[0m\u001b[0;34m\u001b[0m\u001b[0m\n\u001b[1;32m      8\u001b[0m     \u001b[0mmodel\u001b[0m\u001b[0;34m.\u001b[0m\u001b[0mclassifier\u001b[0m \u001b[0;34m=\u001b[0m \u001b[0mmodel_state\u001b[0m\u001b[0;34m[\u001b[0m\u001b[0;34m'classifier'\u001b[0m\u001b[0;34m]\u001b[0m\u001b[0;34m\u001b[0m\u001b[0;34m\u001b[0m\u001b[0m\n\u001b[0;32m----> 9\u001b[0;31m     \u001b[0mmodel\u001b[0m\u001b[0;34m.\u001b[0m\u001b[0mload_state_dict\u001b[0m\u001b[0;34m(\u001b[0m\u001b[0mmodel_state\u001b[0m\u001b[0;34m[\u001b[0m\u001b[0;34m'state_dict'\u001b[0m\u001b[0;34m]\u001b[0m\u001b[0;34m)\u001b[0m\u001b[0;34m\u001b[0m\u001b[0;34m\u001b[0m\u001b[0m\n\u001b[0m\u001b[1;32m     10\u001b[0m     \u001b[0mmodel\u001b[0m\u001b[0;34m.\u001b[0m\u001b[0mclass_to_idx\u001b[0m \u001b[0;34m=\u001b[0m \u001b[0mmodel_state\u001b[0m\u001b[0;34m[\u001b[0m\u001b[0;34m'class_to_idx'\u001b[0m\u001b[0;34m]\u001b[0m\u001b[0;34m\u001b[0m\u001b[0;34m\u001b[0m\u001b[0m\n\u001b[1;32m     11\u001b[0m \u001b[0;34m\u001b[0m\u001b[0m\n",
            "\u001b[0;32m/usr/local/lib/python3.6/dist-packages/torch/nn/modules/module.py\u001b[0m in \u001b[0;36mload_state_dict\u001b[0;34m(self, state_dict, strict)\u001b[0m\n\u001b[1;32m    488\u001b[0m             \u001b[0;32melif\u001b[0m \u001b[0mstrict\u001b[0m\u001b[0;34m:\u001b[0m\u001b[0;34m\u001b[0m\u001b[0;34m\u001b[0m\u001b[0m\n\u001b[1;32m    489\u001b[0m                 raise KeyError('unexpected key \"{}\" in state_dict'\n\u001b[0;32m--> 490\u001b[0;31m                                .format(name))\n\u001b[0m\u001b[1;32m    491\u001b[0m         \u001b[0;32mif\u001b[0m \u001b[0mstrict\u001b[0m\u001b[0;34m:\u001b[0m\u001b[0;34m\u001b[0m\u001b[0;34m\u001b[0m\u001b[0m\n\u001b[1;32m    492\u001b[0m             \u001b[0mmissing\u001b[0m \u001b[0;34m=\u001b[0m \u001b[0mset\u001b[0m\u001b[0;34m(\u001b[0m\u001b[0mown_state\u001b[0m\u001b[0;34m.\u001b[0m\u001b[0mkeys\u001b[0m\u001b[0;34m(\u001b[0m\u001b[0;34m)\u001b[0m\u001b[0;34m)\u001b[0m \u001b[0;34m-\u001b[0m \u001b[0mset\u001b[0m\u001b[0;34m(\u001b[0m\u001b[0mstate_dict\u001b[0m\u001b[0;34m.\u001b[0m\u001b[0mkeys\u001b[0m\u001b[0;34m(\u001b[0m\u001b[0;34m)\u001b[0m\u001b[0;34m)\u001b[0m\u001b[0;34m\u001b[0m\u001b[0;34m\u001b[0m\u001b[0m\n",
            "\u001b[0;31mKeyError\u001b[0m: 'unexpected key \"features.conv0.weight\" in state_dict'"
          ]
        }
      ]
    },
    {
      "cell_type": "markdown",
      "metadata": {
        "id": "NY3nUJtsRjCL",
        "colab_type": "text"
      },
      "source": [
        "# Inference for classification\n",
        "\n",
        "Now you'll write a function to use a trained network for inference. That is, you'll pass an image into the network and predict the class of the flower in the image. Write a function called `predict` that takes an image and a model, then returns the top $K$ most likely classes along with the probabilities. It should look like \n",
        "\n",
        "```python\n",
        "probs, classes = predict(image_path, model)\n",
        "print(probs)\n",
        "print(classes)\n",
        "> [ 0.01558163  0.01541934  0.01452626  0.01443549  0.01407339]\n",
        "> ['70', '3', '45', '62', '55']\n",
        "```\n",
        "\n",
        "First you'll need to handle processing the input image such that it can be used in your network. \n",
        "\n",
        "## Image Preprocessing\n",
        "\n",
        "You'll want to use `PIL` to load the image ([documentation](https://pillow.readthedocs.io/en/latest/reference/Image.html)). It's best to write a function that preprocesses the image so it can be used as input for the model. This function should process the images in the same manner used for training. \n",
        "\n",
        "First, resize the images where the shortest side is 256 pixels, keeping the aspect ratio. This can be done with the [`thumbnail`](http://pillow.readthedocs.io/en/3.1.x/reference/Image.html#PIL.Image.Image.thumbnail) or [`resize`](http://pillow.readthedocs.io/en/3.1.x/reference/Image.html#PIL.Image.Image.thumbnail) methods. Then you'll need to crop out the center 224x224 portion of the image.\n",
        "\n",
        "Color channels of images are typically encoded as integers 0-255, but the model expected floats 0-1. You'll need to convert the values. It's easiest with a Numpy array, which you can get from a PIL image like so `np_image = np.array(pil_image)`.\n",
        "\n",
        "As before, the network expects the images to be normalized in a specific way. For the means, it's `[0.485, 0.456, 0.406]` and for the standard deviations `[0.229, 0.224, 0.225]`. You'll want to subtract the means from each color channel, then divide by the standard deviation. \n",
        "\n",
        "And finally, PyTorch expects the color channel to be the first dimension but it's the third dimension in the PIL image and Numpy array. You can reorder dimensions using [`ndarray.transpose`](https://docs.scipy.org/doc/numpy-1.13.0/reference/generated/numpy.ndarray.transpose.html). The color channel needs to be first and retain the order of the other two dimensions."
      ]
    },
    {
      "cell_type": "code",
      "metadata": {
        "id": "Y-8MHeYSRjCX",
        "colab_type": "code",
        "colab": {}
      },
      "source": [
        "def process_image(image):\n",
        "    ''' Scales, crops, and normalizes a PIL image for a PyTorch model,\n",
        "        returns an Numpy array\n",
        "    '''\n",
        "    \n",
        "    # TODO: Process a PIL image for use in a PyTorch model   \n",
        "    new_size = [0, 0]\n",
        "\n",
        "    if image.size[0] > image.size[1]:\n",
        "        new_size = [image.size[0], 256]\n",
        "    else:\n",
        "        new_size = [256, image.size[1]]\n",
        "    \n",
        "    image.thumbnail(new_size, Image.ANTIALIAS)\n",
        "    width, height = image.size  \n",
        "\n",
        "    left = (256 - 224)/2\n",
        "    top = (256 - 224)/2\n",
        "    right = (256 + 224)/2\n",
        "    bottom = (256 + 224)/2\n",
        "\n",
        "    image = image.crop((left, top, right, bottom))\n",
        "    \n",
        "    image = np.array(image)\n",
        "    image = image/255.\n",
        "    \n",
        "    mean = np.array([0.485, 0.456, 0.406])\n",
        "    std = np.array([0.229, 0.224, 0.225])\n",
        "    image = (image - mean) / std\n",
        "    \n",
        "    image = np.transpose(image, (2, 0, 1))\n",
        "    \n",
        "    return image"
      ],
      "execution_count": 0,
      "outputs": []
    },
    {
      "cell_type": "markdown",
      "metadata": {
        "id": "5_HbbPE8RjCx",
        "colab_type": "text"
      },
      "source": [
        "To check your work, the function below converts a PyTorch tensor and displays it in the notebook. If your `process_image` function works, running the output through this function should return the original image (except for the cropped out portions)."
      ]
    },
    {
      "cell_type": "code",
      "metadata": {
        "id": "jWjd9gG_RjC6",
        "colab_type": "code",
        "colab": {}
      },
      "source": [
        "def imshow(image, ax=None, title=None):\n",
        "    \"\"\"Imshow for Tensor.\"\"\"\n",
        "    if ax is None:\n",
        "        fig, ax = plt.subplots()\n",
        "    \n",
        "    # PyTorch tensors assume the color channel is the first dimension\n",
        "    # but matplotlib assumes is the third dimension\n",
        "    image = image.numpy().transpose((1, 2, 0))\n",
        "    \n",
        "    # Undo preprocessing\n",
        "    mean = np.array([0.485, 0.456, 0.406])\n",
        "    std = np.array([0.229, 0.224, 0.225])\n",
        "    image = std * image + mean\n",
        "    \n",
        "    # Image needs to be clipped between 0 and 1 or it looks like noise when displayed\n",
        "    image = np.clip(image, 0, 1)\n",
        "    \n",
        "    ax.imshow(image)\n",
        "    \n",
        "    return ax"
      ],
      "execution_count": 0,
      "outputs": []
    },
    {
      "cell_type": "markdown",
      "metadata": {
        "id": "3IdT1-JwRjDW",
        "colab_type": "text"
      },
      "source": [
        "## Class Prediction\n",
        "\n",
        "Once you can get images in the correct format, it's time to write a function for making predictions with your model. A common practice is to predict the top 5 or so (usually called top-$K$) most probable classes. You'll want to calculate the class probabilities then find the $K$ largest values.\n",
        "\n",
        "To get the top $K$ largest values in a tensor use [`x.topk(k)`](http://pytorch.org/docs/master/torch.html#torch.topk). This method returns both the highest `k` probabilities and the indices of those probabilities corresponding to the classes. You need to convert from these indices to the actual class labels using `class_to_idx` which hopefully you added to the model or from an `ImageFolder` you used to load the data ([see here](#Save-the-checkpoint)). Make sure to invert the dictionary so you get a mapping from index to class as well.\n",
        "\n",
        "Again, this method should take a path to an image and a model checkpoint, then return the probabilities and classes.\n",
        "\n",
        "```python\n",
        "probs, classes = predict(image_path, model)\n",
        "print(probs)\n",
        "print(classes)\n",
        "> [ 0.01558163  0.01541934  0.01452626  0.01443549  0.01407339]\n",
        "> ['70', '3', '45', '62', '55']\n",
        "```"
      ]
    },
    {
      "cell_type": "code",
      "metadata": {
        "id": "Tix6j5_6RjDe",
        "colab_type": "code",
        "colab": {}
      },
      "source": [
        "def predict(image_path, model, topk=5):\n",
        "    ''' Predict the class (or classes) of an image using a trained deep learning model.\n",
        "    '''\n",
        "    \n",
        "    # TODO: Implement the code to predict the class from an image file\n",
        "    model.eval()\n",
        "    cuda = torch.cuda.is_available() \n",
        "    \n",
        "    if cuda:\n",
        "        model = model.cuda()\n",
        "    else:\n",
        "        model = model.cpu()\n",
        "        \n",
        "    image = Image.open(image_path)\n",
        "    np_array = process_image(image)\n",
        "    tensor = torch.from_numpy(np_array)\n",
        "    \n",
        "    if cuda:\n",
        "        inputs = Variable(tensor.float().cuda())\n",
        "    else:       \n",
        "        inputs = Variable(tensor)\n",
        "        \n",
        "    inputs = inputs.unsqueeze(0)\n",
        "    output = model.forward(inputs)\n",
        "    \n",
        "    ps = torch.exp(output).data.topk(topk)\n",
        "    probabilities = ps[0].cpu()\n",
        "    classes = ps[1].cpu()\n",
        "    class_to_idx_inverted = {model.class_to_idx[k]: k for k in model.class_to_idx}\n",
        "    mapped_classes = list()\n",
        "    \n",
        "    for label in classes.numpy()[0]:\n",
        "        mapped_classes.append(class_to_idx_inverted[label])\n",
        "        \n",
        "    return probabilities.numpy()[0], mapped_classes"
      ],
      "execution_count": 0,
      "outputs": []
    },
    {
      "cell_type": "code",
      "metadata": {
        "id": "hcu8EAmxISOQ",
        "colab_type": "code",
        "outputId": "a5f0717d-23c6-4c7f-8fe2-7c2a5e8e2814",
        "colab": {
          "base_uri": "https://localhost:8080/",
          "height": 231
        }
      },
      "source": [
        "img = random.choice(os.listdir('./flowers/test/7/'))\n",
        "img_path = './flower_data/train/7/' + img\n",
        "with  Image.open(img_path) as image:\n",
        "    plt.imshow(image)\n",
        "    \n",
        "prob, classes = predict(img_path, model)\n",
        "print(prob)\n",
        "print(classes)\n",
        "print([cat_to_name[x] for x in classes])"
      ],
      "execution_count": 0,
      "outputs": [
        {
          "output_type": "error",
          "ename": "FileNotFoundError",
          "evalue": "ignored",
          "traceback": [
            "\u001b[0;31m---------------------------------------------------------------------------\u001b[0m",
            "\u001b[0;31mFileNotFoundError\u001b[0m                         Traceback (most recent call last)",
            "\u001b[0;32m<ipython-input-22-68559dac5ae7>\u001b[0m in \u001b[0;36m<module>\u001b[0;34m()\u001b[0m\n\u001b[0;32m----> 1\u001b[0;31m \u001b[0mimg\u001b[0m \u001b[0;34m=\u001b[0m \u001b[0mrandom\u001b[0m\u001b[0;34m.\u001b[0m\u001b[0mchoice\u001b[0m\u001b[0;34m(\u001b[0m\u001b[0mos\u001b[0m\u001b[0;34m.\u001b[0m\u001b[0mlistdir\u001b[0m\u001b[0;34m(\u001b[0m\u001b[0;34m'./flowers/test/7/'\u001b[0m\u001b[0;34m)\u001b[0m\u001b[0;34m)\u001b[0m\u001b[0;34m\u001b[0m\u001b[0;34m\u001b[0m\u001b[0m\n\u001b[0m\u001b[1;32m      2\u001b[0m \u001b[0mimg_path\u001b[0m \u001b[0;34m=\u001b[0m \u001b[0;34m'./flower_data/train/7/'\u001b[0m \u001b[0;34m+\u001b[0m \u001b[0mimg\u001b[0m\u001b[0;34m\u001b[0m\u001b[0;34m\u001b[0m\u001b[0m\n\u001b[1;32m      3\u001b[0m \u001b[0;32mwith\u001b[0m  \u001b[0mImage\u001b[0m\u001b[0;34m.\u001b[0m\u001b[0mopen\u001b[0m\u001b[0;34m(\u001b[0m\u001b[0mimg_path\u001b[0m\u001b[0;34m)\u001b[0m \u001b[0;32mas\u001b[0m \u001b[0mimage\u001b[0m\u001b[0;34m:\u001b[0m\u001b[0;34m\u001b[0m\u001b[0;34m\u001b[0m\u001b[0m\n\u001b[1;32m      4\u001b[0m     \u001b[0mplt\u001b[0m\u001b[0;34m.\u001b[0m\u001b[0mimshow\u001b[0m\u001b[0;34m(\u001b[0m\u001b[0mimage\u001b[0m\u001b[0;34m)\u001b[0m\u001b[0;34m\u001b[0m\u001b[0;34m\u001b[0m\u001b[0m\n\u001b[1;32m      5\u001b[0m \u001b[0;34m\u001b[0m\u001b[0m\n",
            "\u001b[0;31mFileNotFoundError\u001b[0m: [Errno 2] No such file or directory: './flowers/test/7/'"
          ]
        }
      ]
    },
    {
      "cell_type": "markdown",
      "metadata": {
        "id": "S74JNW_-RjD6",
        "colab_type": "text"
      },
      "source": [
        "## Sanity Checking\n",
        "\n",
        "Now that you can use a trained model for predictions, check to make sure it makes sense. Even if the validation accuracy is high, it's always good to check that there aren't obvious bugs. Use `matplotlib` to plot the probabilities for the top 5 classes as a bar graph, along with the input image. It should look like this:\n",
        "\n",
        "<img src='https://github.com/udacity/pytorch_challenge/blob/master/assets/inference_example.png?raw=1' width=300px>\n",
        "\n",
        "You can convert from the class integer encoding to actual flower names with the `cat_to_name.json` file (should have been loaded earlier in the notebook). To show a PyTorch tensor as an image, use the `imshow` function defined above."
      ]
    },
    {
      "cell_type": "code",
      "metadata": {
        "id": "fml1PcyYRjEC",
        "colab_type": "code",
        "outputId": "341bba87-0447-4e1e-9fc9-cd79aaa5724a",
        "colab": {
          "base_uri": "https://localhost:8080/",
          "height": 231
        }
      },
      "source": [
        "# TODO: Display an image along with the top 5 classes\n",
        "prob, classes = predict(img_path, model)\n",
        "max_index = np.argmax(prob)\n",
        "max_probability = prob[max_index]\n",
        "label = classes[max_index]\n",
        "\n",
        "fig = plt.figure(figsize=(6,6))\n",
        "ax1 = plt.subplot2grid((15,9), (0,0), colspan=9, rowspan=9)\n",
        "ax2 = plt.subplot2grid((15,9), (9,2), colspan=5, rowspan=5)\n",
        "\n",
        "image = Image.open(img_path)\n",
        "ax1.axis('off')\n",
        "ax1.set_title(cat_to_name[label])\n",
        "ax1.imshow(image)\n",
        "\n",
        "labels = []\n",
        "for cl in classes:\n",
        "    labels.append(cat_to_name[cl])\n",
        "    \n",
        "y_pos = np.arange(5)\n",
        "ax2.set_yticks(y_pos)\n",
        "ax2.set_yticklabels(labels)\n",
        "ax2.set_xlabel('Probability')\n",
        "ax2.invert_yaxis()\n",
        "ax2.barh(y_pos, prob, xerr=0, align='center', color='blue')\n",
        "\n",
        "plt.show()\n",
        "\n"
      ],
      "execution_count": 0,
      "outputs": [
        {
          "output_type": "error",
          "ename": "NameError",
          "evalue": "ignored",
          "traceback": [
            "\u001b[0;31m---------------------------------------------------------------------------\u001b[0m",
            "\u001b[0;31mNameError\u001b[0m                                 Traceback (most recent call last)",
            "\u001b[0;32m<ipython-input-20-81237beae31e>\u001b[0m in \u001b[0;36m<module>\u001b[0;34m()\u001b[0m\n\u001b[0;32m----> 1\u001b[0;31m \u001b[0mprob\u001b[0m\u001b[0;34m,\u001b[0m \u001b[0mclasses\u001b[0m \u001b[0;34m=\u001b[0m \u001b[0mpredict\u001b[0m\u001b[0;34m(\u001b[0m\u001b[0mimg_path\u001b[0m\u001b[0;34m,\u001b[0m \u001b[0mmodel\u001b[0m\u001b[0;34m)\u001b[0m\u001b[0;34m\u001b[0m\u001b[0;34m\u001b[0m\u001b[0m\n\u001b[0m\u001b[1;32m      2\u001b[0m \u001b[0mmax_index\u001b[0m \u001b[0;34m=\u001b[0m \u001b[0mnp\u001b[0m\u001b[0;34m.\u001b[0m\u001b[0margmax\u001b[0m\u001b[0;34m(\u001b[0m\u001b[0mprob\u001b[0m\u001b[0;34m)\u001b[0m\u001b[0;34m\u001b[0m\u001b[0;34m\u001b[0m\u001b[0m\n\u001b[1;32m      3\u001b[0m \u001b[0mmax_probability\u001b[0m \u001b[0;34m=\u001b[0m \u001b[0mprob\u001b[0m\u001b[0;34m[\u001b[0m\u001b[0mmax_index\u001b[0m\u001b[0;34m]\u001b[0m\u001b[0;34m\u001b[0m\u001b[0;34m\u001b[0m\u001b[0m\n\u001b[1;32m      4\u001b[0m \u001b[0mlabel\u001b[0m \u001b[0;34m=\u001b[0m \u001b[0mclasses\u001b[0m\u001b[0;34m[\u001b[0m\u001b[0mmax_index\u001b[0m\u001b[0;34m]\u001b[0m\u001b[0;34m\u001b[0m\u001b[0;34m\u001b[0m\u001b[0m\n\u001b[1;32m      5\u001b[0m \u001b[0;34m\u001b[0m\u001b[0m\n",
            "\u001b[0;31mNameError\u001b[0m: name 'img_path' is not defined"
          ]
        }
      ]
    },
    {
      "cell_type": "code",
      "metadata": {
        "id": "PFFt7P81p64d",
        "colab_type": "code",
        "outputId": "7a5e3733-8585-4851-bfe4-11fd1408a949",
        "colab": {
          "base_uri": "https://localhost:8080/",
          "height": 54
        }
      },
      "source": [
        "from google.colab import drive\n",
        "drive.mount('/content/drive')"
      ],
      "execution_count": 0,
      "outputs": [
        {
          "output_type": "stream",
          "text": [
            "Drive already mounted at /content/drive; to attempt to forcibly remount, call drive.mount(\"/content/drive\", force_remount=True).\n"
          ],
          "name": "stdout"
        }
      ]
    },
    {
      "cell_type": "code",
      "metadata": {
        "id": "AfH1_bQoqH9T",
        "colab_type": "code",
        "colab": {}
      },
      "source": [
        "model_save_name = 'densenet121_checkpoint.pth'\n",
        "path = F\"/content/drive/My Drive/{model_save_name}\" \n",
        "torch.save(model.state_dict(), path)"
      ],
      "execution_count": 0,
      "outputs": []
    }
  ]
}